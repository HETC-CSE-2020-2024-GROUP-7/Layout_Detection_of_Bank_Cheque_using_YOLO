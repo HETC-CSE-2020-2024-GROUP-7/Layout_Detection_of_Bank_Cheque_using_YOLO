{
 "cells": [
  {
   "attachments": {},
   "cell_type": "markdown",
   "metadata": {},
   "source": [
    "# Data Processing``"
   ]
  },
  {
   "attachments": {},
   "cell_type": "markdown",
   "metadata": {},
   "source": [
    "### Importing required tools "
   ]
  },
  {
   "cell_type": "code",
   "execution_count": 2,
   "metadata": {},
   "outputs": [],
   "source": [
    "from os import path, listdir\n",
    "from IPython.display import display as disp\n",
    "import numpy as np \n",
    "import pandas as pd\n",
    "import cv2 as cv\n",
    "import matplotlib.pyplot as plt"
   ]
  },
  {
   "attachments": {},
   "cell_type": "markdown",
   "metadata": {},
   "source": [
    "### Data Processing Steps "
   ]
  },
  {
   "attachments": {},
   "cell_type": "markdown",
   "metadata": {},
   "source": [
    "1. Raw Data Collection \n",
    "2. Raw Data Correction\n",
    "3. Intermediate Data : Box information(Bx,By,Bh,Bw)\n",
    "4. Classes Encoding(sign : 1, others : 0 ||  amount : 1, others : 0)\n",
    "5. Data Orientation(4*(1+4+4)=36 +1 = 37 column)\n",
    "6. Data Normalisation"
   ]
  },
  {
   "cell_type": "code",
   "execution_count": 3,
   "metadata": {},
   "outputs": [],
   "source": [
    "# # Raw Data Extraction tool \n",
    "# from collection_and_process.dataCollector import extract_data_in_loop"
   ]
  },
  {
   "attachments": {},
   "cell_type": "markdown",
   "metadata": {},
   "source": [
    "### Raw Data Correction"
   ]
  },
  {
   "attachments": {},
   "cell_type": "markdown",
   "metadata": {},
   "source": [
    "|X|Y|\n",
    "|------|------|\n",
    "|Ax=Dx | Ay=By|\n",
    "|Bx=Cx | Cy=Dy|"
   ]
  },
  {
   "cell_type": "code",
   "execution_count": 4,
   "metadata": {},
   "outputs": [
    {
     "data": {
      "text/html": [
       "<div>\n",
       "<style scoped>\n",
       "    .dataframe tbody tr th:only-of-type {\n",
       "        vertical-align: middle;\n",
       "    }\n",
       "\n",
       "    .dataframe tbody tr th {\n",
       "        vertical-align: top;\n",
       "    }\n",
       "\n",
       "    .dataframe thead th {\n",
       "        text-align: right;\n",
       "    }\n",
       "</style>\n",
       "<table border=\"1\" class=\"dataframe\">\n",
       "  <thead>\n",
       "    <tr style=\"text-align: right;\">\n",
       "      <th></th>\n",
       "      <th>FileName</th>\n",
       "      <th>IMG_HEIGHT</th>\n",
       "      <th>IMG_WIDTH</th>\n",
       "      <th>ClassName</th>\n",
       "      <th>P</th>\n",
       "      <th>Ax</th>\n",
       "      <th>Ay</th>\n",
       "      <th>Bx</th>\n",
       "      <th>By</th>\n",
       "      <th>Cx</th>\n",
       "      <th>Cy</th>\n",
       "      <th>Dx</th>\n",
       "      <th>Dy</th>\n",
       "    </tr>\n",
       "  </thead>\n",
       "  <tbody>\n",
       "    <tr>\n",
       "      <th>0</th>\n",
       "      <td>X_000.jpeg</td>\n",
       "      <td>930</td>\n",
       "      <td>2240</td>\n",
       "      <td>Signature</td>\n",
       "      <td>1</td>\n",
       "      <td>1290.0</td>\n",
       "      <td>648.0</td>\n",
       "      <td>2030.0</td>\n",
       "      <td>660.0</td>\n",
       "      <td>2042.0</td>\n",
       "      <td>840.0</td>\n",
       "      <td>1302.0</td>\n",
       "      <td>849.0</td>\n",
       "    </tr>\n",
       "    <tr>\n",
       "      <th>1</th>\n",
       "      <td>X_000.jpeg</td>\n",
       "      <td>930</td>\n",
       "      <td>2240</td>\n",
       "      <td>Date</td>\n",
       "      <td>1</td>\n",
       "      <td>1433.0</td>\n",
       "      <td>227.0</td>\n",
       "      <td>1755.0</td>\n",
       "      <td>226.0</td>\n",
       "      <td>1755.0</td>\n",
       "      <td>294.0</td>\n",
       "      <td>1426.0</td>\n",
       "      <td>294.0</td>\n",
       "    </tr>\n",
       "    <tr>\n",
       "      <th>2</th>\n",
       "      <td>X_000.jpeg</td>\n",
       "      <td>930</td>\n",
       "      <td>2240</td>\n",
       "      <td>Amount</td>\n",
       "      <td>1</td>\n",
       "      <td>1785.0</td>\n",
       "      <td>339.0</td>\n",
       "      <td>2072.0</td>\n",
       "      <td>338.0</td>\n",
       "      <td>2074.0</td>\n",
       "      <td>408.0</td>\n",
       "      <td>1783.0</td>\n",
       "      <td>408.0</td>\n",
       "    </tr>\n",
       "    <tr>\n",
       "      <th>3</th>\n",
       "      <td>X_000.jpeg</td>\n",
       "      <td>930</td>\n",
       "      <td>2240</td>\n",
       "      <td>AcNo</td>\n",
       "      <td>0</td>\n",
       "      <td>-1.0</td>\n",
       "      <td>-1.0</td>\n",
       "      <td>-1.0</td>\n",
       "      <td>-1.0</td>\n",
       "      <td>-1.0</td>\n",
       "      <td>-1.0</td>\n",
       "      <td>-1.0</td>\n",
       "      <td>-1.0</td>\n",
       "    </tr>\n",
       "    <tr>\n",
       "      <th>4</th>\n",
       "      <td>X_001.jpeg</td>\n",
       "      <td>853</td>\n",
       "      <td>2240</td>\n",
       "      <td>Signature</td>\n",
       "      <td>1</td>\n",
       "      <td>1477.0</td>\n",
       "      <td>529.0</td>\n",
       "      <td>2149.0</td>\n",
       "      <td>534.0</td>\n",
       "      <td>2163.0</td>\n",
       "      <td>771.0</td>\n",
       "      <td>1486.0</td>\n",
       "      <td>768.0</td>\n",
       "    </tr>\n",
       "    <tr>\n",
       "      <th>5</th>\n",
       "      <td>X_001.jpeg</td>\n",
       "      <td>853</td>\n",
       "      <td>2240</td>\n",
       "      <td>Date</td>\n",
       "      <td>1</td>\n",
       "      <td>1757.0</td>\n",
       "      <td>183.0</td>\n",
       "      <td>1955.0</td>\n",
       "      <td>182.0</td>\n",
       "      <td>1955.0</td>\n",
       "      <td>229.0</td>\n",
       "      <td>1757.0</td>\n",
       "      <td>234.0</td>\n",
       "    </tr>\n",
       "    <tr>\n",
       "      <th>6</th>\n",
       "      <td>X_001.jpeg</td>\n",
       "      <td>853</td>\n",
       "      <td>2240</td>\n",
       "      <td>Amount</td>\n",
       "      <td>1</td>\n",
       "      <td>1946.0</td>\n",
       "      <td>400.0</td>\n",
       "      <td>2177.0</td>\n",
       "      <td>404.0</td>\n",
       "      <td>2182.0</td>\n",
       "      <td>452.0</td>\n",
       "      <td>1946.0</td>\n",
       "      <td>453.0</td>\n",
       "    </tr>\n",
       "    <tr>\n",
       "      <th>7</th>\n",
       "      <td>X_001.jpeg</td>\n",
       "      <td>853</td>\n",
       "      <td>2240</td>\n",
       "      <td>AcNo</td>\n",
       "      <td>0</td>\n",
       "      <td>-1.0</td>\n",
       "      <td>-1.0</td>\n",
       "      <td>-1.0</td>\n",
       "      <td>-1.0</td>\n",
       "      <td>-1.0</td>\n",
       "      <td>-1.0</td>\n",
       "      <td>-1.0</td>\n",
       "      <td>-1.0</td>\n",
       "    </tr>\n",
       "    <tr>\n",
       "      <th>8</th>\n",
       "      <td>X_002.jpeg</td>\n",
       "      <td>823</td>\n",
       "      <td>2240</td>\n",
       "      <td>Signature</td>\n",
       "      <td>1</td>\n",
       "      <td>1444.0</td>\n",
       "      <td>511.0</td>\n",
       "      <td>1892.0</td>\n",
       "      <td>512.0</td>\n",
       "      <td>1895.0</td>\n",
       "      <td>674.0</td>\n",
       "      <td>1433.0</td>\n",
       "      <td>677.0</td>\n",
       "    </tr>\n",
       "    <tr>\n",
       "      <th>9</th>\n",
       "      <td>X_002.jpeg</td>\n",
       "      <td>823</td>\n",
       "      <td>2240</td>\n",
       "      <td>Date</td>\n",
       "      <td>1</td>\n",
       "      <td>1335.0</td>\n",
       "      <td>210.0</td>\n",
       "      <td>1825.0</td>\n",
       "      <td>210.0</td>\n",
       "      <td>1822.0</td>\n",
       "      <td>262.0</td>\n",
       "      <td>1332.0</td>\n",
       "      <td>268.0</td>\n",
       "    </tr>\n",
       "  </tbody>\n",
       "</table>\n",
       "</div>"
      ],
      "text/plain": [
       "     FileName  IMG_HEIGHT  IMG_WIDTH  ClassName  P      Ax     Ay      Bx  \\\n",
       "0  X_000.jpeg         930       2240  Signature  1  1290.0  648.0  2030.0   \n",
       "1  X_000.jpeg         930       2240       Date  1  1433.0  227.0  1755.0   \n",
       "2  X_000.jpeg         930       2240     Amount  1  1785.0  339.0  2072.0   \n",
       "3  X_000.jpeg         930       2240       AcNo  0    -1.0   -1.0    -1.0   \n",
       "4  X_001.jpeg         853       2240  Signature  1  1477.0  529.0  2149.0   \n",
       "5  X_001.jpeg         853       2240       Date  1  1757.0  183.0  1955.0   \n",
       "6  X_001.jpeg         853       2240     Amount  1  1946.0  400.0  2177.0   \n",
       "7  X_001.jpeg         853       2240       AcNo  0    -1.0   -1.0    -1.0   \n",
       "8  X_002.jpeg         823       2240  Signature  1  1444.0  511.0  1892.0   \n",
       "9  X_002.jpeg         823       2240       Date  1  1335.0  210.0  1825.0   \n",
       "\n",
       "      By      Cx     Cy      Dx     Dy  \n",
       "0  660.0  2042.0  840.0  1302.0  849.0  \n",
       "1  226.0  1755.0  294.0  1426.0  294.0  \n",
       "2  338.0  2074.0  408.0  1783.0  408.0  \n",
       "3   -1.0    -1.0   -1.0    -1.0   -1.0  \n",
       "4  534.0  2163.0  771.0  1486.0  768.0  \n",
       "5  182.0  1955.0  229.0  1757.0  234.0  \n",
       "6  404.0  2182.0  452.0  1946.0  453.0  \n",
       "7   -1.0    -1.0   -1.0    -1.0   -1.0  \n",
       "8  512.0  1895.0  674.0  1433.0  677.0  \n",
       "9  210.0  1822.0  262.0  1332.0  268.0  "
      ]
     },
     "execution_count": 4,
     "metadata": {},
     "output_type": "execute_result"
    }
   ],
   "source": [
    "raw_data_path = \"./csv/\"\n",
    "df_list = [pd.read_csv(path.join(raw_data_path,file)) for file in listdir(raw_data_path)]\n",
    "raw_df=pd.concat(df_list, ignore_index=True)\n",
    "raw_df.head(10)"
   ]
  },
  {
   "cell_type": "code",
   "execution_count": 5,
   "metadata": {},
   "outputs": [
    {
     "data": {
      "text/html": [
       "<div>\n",
       "<style scoped>\n",
       "    .dataframe tbody tr th:only-of-type {\n",
       "        vertical-align: middle;\n",
       "    }\n",
       "\n",
       "    .dataframe tbody tr th {\n",
       "        vertical-align: top;\n",
       "    }\n",
       "\n",
       "    .dataframe thead th {\n",
       "        text-align: right;\n",
       "    }\n",
       "</style>\n",
       "<table border=\"1\" class=\"dataframe\">\n",
       "  <thead>\n",
       "    <tr style=\"text-align: right;\">\n",
       "      <th></th>\n",
       "      <th>FileName</th>\n",
       "      <th>IMG_HEIGHT</th>\n",
       "      <th>IMG_WIDTH</th>\n",
       "      <th>ClassName</th>\n",
       "      <th>P</th>\n",
       "      <th>Ax</th>\n",
       "      <th>Ay</th>\n",
       "      <th>Cx</th>\n",
       "      <th>Cy</th>\n",
       "    </tr>\n",
       "  </thead>\n",
       "  <tbody>\n",
       "    <tr>\n",
       "      <th>0</th>\n",
       "      <td>X_000.jpeg</td>\n",
       "      <td>930</td>\n",
       "      <td>2240</td>\n",
       "      <td>Signature</td>\n",
       "      <td>1</td>\n",
       "      <td>1296.0</td>\n",
       "      <td>654.0</td>\n",
       "      <td>2036.0</td>\n",
       "      <td>844.5</td>\n",
       "    </tr>\n",
       "    <tr>\n",
       "      <th>1</th>\n",
       "      <td>X_000.jpeg</td>\n",
       "      <td>930</td>\n",
       "      <td>2240</td>\n",
       "      <td>Date</td>\n",
       "      <td>1</td>\n",
       "      <td>1429.5</td>\n",
       "      <td>226.5</td>\n",
       "      <td>1755.0</td>\n",
       "      <td>294.0</td>\n",
       "    </tr>\n",
       "    <tr>\n",
       "      <th>2</th>\n",
       "      <td>X_000.jpeg</td>\n",
       "      <td>930</td>\n",
       "      <td>2240</td>\n",
       "      <td>Amount</td>\n",
       "      <td>1</td>\n",
       "      <td>1784.0</td>\n",
       "      <td>338.5</td>\n",
       "      <td>2073.0</td>\n",
       "      <td>408.0</td>\n",
       "    </tr>\n",
       "    <tr>\n",
       "      <th>3</th>\n",
       "      <td>X_000.jpeg</td>\n",
       "      <td>930</td>\n",
       "      <td>2240</td>\n",
       "      <td>AcNo</td>\n",
       "      <td>0</td>\n",
       "      <td>-1.0</td>\n",
       "      <td>-1.0</td>\n",
       "      <td>-1.0</td>\n",
       "      <td>-1.0</td>\n",
       "    </tr>\n",
       "    <tr>\n",
       "      <th>4</th>\n",
       "      <td>X_001.jpeg</td>\n",
       "      <td>853</td>\n",
       "      <td>2240</td>\n",
       "      <td>Signature</td>\n",
       "      <td>1</td>\n",
       "      <td>1481.5</td>\n",
       "      <td>531.5</td>\n",
       "      <td>2156.0</td>\n",
       "      <td>769.5</td>\n",
       "    </tr>\n",
       "  </tbody>\n",
       "</table>\n",
       "</div>"
      ],
      "text/plain": [
       "     FileName  IMG_HEIGHT  IMG_WIDTH  ClassName  P      Ax     Ay      Cx  \\\n",
       "0  X_000.jpeg         930       2240  Signature  1  1296.0  654.0  2036.0   \n",
       "1  X_000.jpeg         930       2240       Date  1  1429.5  226.5  1755.0   \n",
       "2  X_000.jpeg         930       2240     Amount  1  1784.0  338.5  2073.0   \n",
       "3  X_000.jpeg         930       2240       AcNo  0    -1.0   -1.0    -1.0   \n",
       "4  X_001.jpeg         853       2240  Signature  1  1481.5  531.5  2156.0   \n",
       "\n",
       "      Cy  \n",
       "0  844.5  \n",
       "1  294.0  \n",
       "2  408.0  \n",
       "3   -1.0  \n",
       "4  769.5  "
      ]
     },
     "execution_count": 5,
     "metadata": {},
     "output_type": "execute_result"
    }
   ],
   "source": [
    "corrected_df = raw_df.iloc[:,:5]\n",
    "corrected_df['Ax'] = (raw_df.Ax+raw_df.Dx)/2\n",
    "corrected_df['Ay'] = (raw_df.By+raw_df.Ay)/2\n",
    "corrected_df['Cx'] = (raw_df.Bx+raw_df.Cx)/2\n",
    "corrected_df['Cy'] = (raw_df.Cy+raw_df.Dy)/2\n",
    "\n",
    "corrected_df.head()"
   ]
  },
  {
   "attachments": {},
   "cell_type": "markdown",
   "metadata": {},
   "source": [
    "### Box Information Data generation"
   ]
  },
  {
   "cell_type": "code",
   "execution_count": 6,
   "metadata": {},
   "outputs": [
    {
     "data": {
      "text/html": [
       "<div>\n",
       "<style scoped>\n",
       "    .dataframe tbody tr th:only-of-type {\n",
       "        vertical-align: middle;\n",
       "    }\n",
       "\n",
       "    .dataframe tbody tr th {\n",
       "        vertical-align: top;\n",
       "    }\n",
       "\n",
       "    .dataframe thead th {\n",
       "        text-align: right;\n",
       "    }\n",
       "</style>\n",
       "<table border=\"1\" class=\"dataframe\">\n",
       "  <thead>\n",
       "    <tr style=\"text-align: right;\">\n",
       "      <th></th>\n",
       "      <th>FileName</th>\n",
       "      <th>IMG_HEIGHT</th>\n",
       "      <th>IMG_WIDTH</th>\n",
       "      <th>ClassName</th>\n",
       "      <th>P</th>\n",
       "      <th>Bx</th>\n",
       "      <th>By</th>\n",
       "      <th>Bw</th>\n",
       "      <th>Bh</th>\n",
       "    </tr>\n",
       "  </thead>\n",
       "  <tbody>\n",
       "    <tr>\n",
       "      <th>0</th>\n",
       "      <td>X_000.jpeg</td>\n",
       "      <td>930</td>\n",
       "      <td>2240</td>\n",
       "      <td>Signature</td>\n",
       "      <td>1</td>\n",
       "      <td>1666.00</td>\n",
       "      <td>749.25</td>\n",
       "      <td>740.0</td>\n",
       "      <td>190.5</td>\n",
       "    </tr>\n",
       "    <tr>\n",
       "      <th>1</th>\n",
       "      <td>X_000.jpeg</td>\n",
       "      <td>930</td>\n",
       "      <td>2240</td>\n",
       "      <td>Date</td>\n",
       "      <td>1</td>\n",
       "      <td>1592.25</td>\n",
       "      <td>260.25</td>\n",
       "      <td>325.5</td>\n",
       "      <td>67.5</td>\n",
       "    </tr>\n",
       "    <tr>\n",
       "      <th>2</th>\n",
       "      <td>X_000.jpeg</td>\n",
       "      <td>930</td>\n",
       "      <td>2240</td>\n",
       "      <td>Amount</td>\n",
       "      <td>1</td>\n",
       "      <td>1928.50</td>\n",
       "      <td>373.25</td>\n",
       "      <td>289.0</td>\n",
       "      <td>69.5</td>\n",
       "    </tr>\n",
       "    <tr>\n",
       "      <th>3</th>\n",
       "      <td>X_000.jpeg</td>\n",
       "      <td>930</td>\n",
       "      <td>2240</td>\n",
       "      <td>AcNo</td>\n",
       "      <td>0</td>\n",
       "      <td>-1.00</td>\n",
       "      <td>-1.00</td>\n",
       "      <td>0.0</td>\n",
       "      <td>0.0</td>\n",
       "    </tr>\n",
       "    <tr>\n",
       "      <th>4</th>\n",
       "      <td>X_001.jpeg</td>\n",
       "      <td>853</td>\n",
       "      <td>2240</td>\n",
       "      <td>Signature</td>\n",
       "      <td>1</td>\n",
       "      <td>1818.75</td>\n",
       "      <td>650.50</td>\n",
       "      <td>674.5</td>\n",
       "      <td>238.0</td>\n",
       "    </tr>\n",
       "    <tr>\n",
       "      <th>5</th>\n",
       "      <td>X_001.jpeg</td>\n",
       "      <td>853</td>\n",
       "      <td>2240</td>\n",
       "      <td>Date</td>\n",
       "      <td>1</td>\n",
       "      <td>1856.00</td>\n",
       "      <td>207.00</td>\n",
       "      <td>198.0</td>\n",
       "      <td>49.0</td>\n",
       "    </tr>\n",
       "    <tr>\n",
       "      <th>6</th>\n",
       "      <td>X_001.jpeg</td>\n",
       "      <td>853</td>\n",
       "      <td>2240</td>\n",
       "      <td>Amount</td>\n",
       "      <td>1</td>\n",
       "      <td>2062.75</td>\n",
       "      <td>427.25</td>\n",
       "      <td>233.5</td>\n",
       "      <td>50.5</td>\n",
       "    </tr>\n",
       "    <tr>\n",
       "      <th>7</th>\n",
       "      <td>X_001.jpeg</td>\n",
       "      <td>853</td>\n",
       "      <td>2240</td>\n",
       "      <td>AcNo</td>\n",
       "      <td>0</td>\n",
       "      <td>-1.00</td>\n",
       "      <td>-1.00</td>\n",
       "      <td>0.0</td>\n",
       "      <td>0.0</td>\n",
       "    </tr>\n",
       "    <tr>\n",
       "      <th>8</th>\n",
       "      <td>X_002.jpeg</td>\n",
       "      <td>823</td>\n",
       "      <td>2240</td>\n",
       "      <td>Signature</td>\n",
       "      <td>1</td>\n",
       "      <td>1666.00</td>\n",
       "      <td>593.50</td>\n",
       "      <td>455.0</td>\n",
       "      <td>164.0</td>\n",
       "    </tr>\n",
       "    <tr>\n",
       "      <th>9</th>\n",
       "      <td>X_002.jpeg</td>\n",
       "      <td>823</td>\n",
       "      <td>2240</td>\n",
       "      <td>Date</td>\n",
       "      <td>1</td>\n",
       "      <td>1578.50</td>\n",
       "      <td>237.50</td>\n",
       "      <td>490.0</td>\n",
       "      <td>55.0</td>\n",
       "    </tr>\n",
       "  </tbody>\n",
       "</table>\n",
       "</div>"
      ],
      "text/plain": [
       "     FileName  IMG_HEIGHT  IMG_WIDTH  ClassName  P       Bx      By     Bw  \\\n",
       "0  X_000.jpeg         930       2240  Signature  1  1666.00  749.25  740.0   \n",
       "1  X_000.jpeg         930       2240       Date  1  1592.25  260.25  325.5   \n",
       "2  X_000.jpeg         930       2240     Amount  1  1928.50  373.25  289.0   \n",
       "3  X_000.jpeg         930       2240       AcNo  0    -1.00   -1.00    0.0   \n",
       "4  X_001.jpeg         853       2240  Signature  1  1818.75  650.50  674.5   \n",
       "5  X_001.jpeg         853       2240       Date  1  1856.00  207.00  198.0   \n",
       "6  X_001.jpeg         853       2240     Amount  1  2062.75  427.25  233.5   \n",
       "7  X_001.jpeg         853       2240       AcNo  0    -1.00   -1.00    0.0   \n",
       "8  X_002.jpeg         823       2240  Signature  1  1666.00  593.50  455.0   \n",
       "9  X_002.jpeg         823       2240       Date  1  1578.50  237.50  490.0   \n",
       "\n",
       "      Bh  \n",
       "0  190.5  \n",
       "1   67.5  \n",
       "2   69.5  \n",
       "3    0.0  \n",
       "4  238.0  \n",
       "5   49.0  \n",
       "6   50.5  \n",
       "7    0.0  \n",
       "8  164.0  \n",
       "9   55.0  "
      ]
     },
     "execution_count": 6,
     "metadata": {},
     "output_type": "execute_result"
    }
   ],
   "source": [
    "intermediate_df = corrected_df.iloc[:,:5]\n",
    "Cx,Ax,Cy,Ay = corrected_df.Cx, corrected_df.Ax, corrected_df.Cy, corrected_df.Ay\n",
    "intermediate_df['Bx'] = (Cx+Ax)/2 # Simplyfing Ax+(Cx-Ax)/2\n",
    "intermediate_df['By'] = (Cy+Ay)/2 # Simplyfing Ay+(Cy-Ay)/2\n",
    "intermediate_df['Bw'] = np.abs(Cx-Ax)\n",
    "intermediate_df['Bh'] = np.abs(Cy-Ay)\n",
    "\n",
    "intermediate_df.head(10)"
   ]
  },
  {
   "cell_type": "code",
   "execution_count": 7,
   "metadata": {},
   "outputs": [
    {
     "data": {
      "text/plain": [
       "(823, 2240, 3)"
      ]
     },
     "execution_count": 7,
     "metadata": {},
     "output_type": "execute_result"
    },
    {
     "data": {
      "image/png": "[encoded data removed]",
      "text/plain": [
       "<Figure size 640x480 with 1 Axes>"
      ]
     },
     "metadata": {},
     "output_type": "display_data"
    }
   ],
   "source": [
    "image_dir=\"./X/\"\n",
    "index = 11\n",
    "img = cv.imread(path.join(image_dir,intermediate_df.FileName[index]))\n",
    "bx,by,bw,bh = intermediate_df.iloc[index,5:]\n",
    "cv.rectangle(img,(int(bx-bw/2),int(by-bh/2)),(int(bx+bw/2),int(by+bh/2)) ,(0,0,255),2)\n",
    "plt.imshow(img)\n",
    "img.shape"
   ]
  },
  {
   "attachments": {},
   "cell_type": "markdown",
   "metadata": {},
   "source": [
    "### Classes Encoding "
   ]
  },
  {
   "cell_type": "code",
   "execution_count": 8,
   "metadata": {},
   "outputs": [
    {
     "data": {
      "text/html": [
       "<div>\n",
       "<style scoped>\n",
       "    .dataframe tbody tr th:only-of-type {\n",
       "        vertical-align: middle;\n",
       "    }\n",
       "\n",
       "    .dataframe tbody tr th {\n",
       "        vertical-align: top;\n",
       "    }\n",
       "\n",
       "    .dataframe thead th {\n",
       "        text-align: right;\n",
       "    }\n",
       "</style>\n",
       "<table border=\"1\" class=\"dataframe\">\n",
       "  <thead>\n",
       "    <tr style=\"text-align: right;\">\n",
       "      <th></th>\n",
       "      <th>FileName</th>\n",
       "      <th>IMG_HEIGHT</th>\n",
       "      <th>IMG_WIDTH</th>\n",
       "      <th>P</th>\n",
       "      <th>Bx</th>\n",
       "      <th>By</th>\n",
       "      <th>Bw</th>\n",
       "      <th>Bh</th>\n",
       "      <th>AcNo</th>\n",
       "      <th>Amount</th>\n",
       "      <th>Date</th>\n",
       "      <th>Signature</th>\n",
       "    </tr>\n",
       "  </thead>\n",
       "  <tbody>\n",
       "    <tr>\n",
       "      <th>0</th>\n",
       "      <td>X_000.jpeg</td>\n",
       "      <td>930</td>\n",
       "      <td>2240</td>\n",
       "      <td>1</td>\n",
       "      <td>1666.00</td>\n",
       "      <td>749.25</td>\n",
       "      <td>740.0</td>\n",
       "      <td>190.5</td>\n",
       "      <td>False</td>\n",
       "      <td>False</td>\n",
       "      <td>False</td>\n",
       "      <td>True</td>\n",
       "    </tr>\n",
       "    <tr>\n",
       "      <th>1</th>\n",
       "      <td>X_000.jpeg</td>\n",
       "      <td>930</td>\n",
       "      <td>2240</td>\n",
       "      <td>1</td>\n",
       "      <td>1592.25</td>\n",
       "      <td>260.25</td>\n",
       "      <td>325.5</td>\n",
       "      <td>67.5</td>\n",
       "      <td>False</td>\n",
       "      <td>False</td>\n",
       "      <td>True</td>\n",
       "      <td>False</td>\n",
       "    </tr>\n",
       "    <tr>\n",
       "      <th>2</th>\n",
       "      <td>X_000.jpeg</td>\n",
       "      <td>930</td>\n",
       "      <td>2240</td>\n",
       "      <td>1</td>\n",
       "      <td>1928.50</td>\n",
       "      <td>373.25</td>\n",
       "      <td>289.0</td>\n",
       "      <td>69.5</td>\n",
       "      <td>False</td>\n",
       "      <td>True</td>\n",
       "      <td>False</td>\n",
       "      <td>False</td>\n",
       "    </tr>\n",
       "    <tr>\n",
       "      <th>3</th>\n",
       "      <td>X_000.jpeg</td>\n",
       "      <td>930</td>\n",
       "      <td>2240</td>\n",
       "      <td>0</td>\n",
       "      <td>-1.00</td>\n",
       "      <td>-1.00</td>\n",
       "      <td>0.0</td>\n",
       "      <td>0.0</td>\n",
       "      <td>True</td>\n",
       "      <td>False</td>\n",
       "      <td>False</td>\n",
       "      <td>False</td>\n",
       "    </tr>\n",
       "    <tr>\n",
       "      <th>4</th>\n",
       "      <td>X_001.jpeg</td>\n",
       "      <td>853</td>\n",
       "      <td>2240</td>\n",
       "      <td>1</td>\n",
       "      <td>1818.75</td>\n",
       "      <td>650.50</td>\n",
       "      <td>674.5</td>\n",
       "      <td>238.0</td>\n",
       "      <td>False</td>\n",
       "      <td>False</td>\n",
       "      <td>False</td>\n",
       "      <td>True</td>\n",
       "    </tr>\n",
       "    <tr>\n",
       "      <th>5</th>\n",
       "      <td>X_001.jpeg</td>\n",
       "      <td>853</td>\n",
       "      <td>2240</td>\n",
       "      <td>1</td>\n",
       "      <td>1856.00</td>\n",
       "      <td>207.00</td>\n",
       "      <td>198.0</td>\n",
       "      <td>49.0</td>\n",
       "      <td>False</td>\n",
       "      <td>False</td>\n",
       "      <td>True</td>\n",
       "      <td>False</td>\n",
       "    </tr>\n",
       "    <tr>\n",
       "      <th>6</th>\n",
       "      <td>X_001.jpeg</td>\n",
       "      <td>853</td>\n",
       "      <td>2240</td>\n",
       "      <td>1</td>\n",
       "      <td>2062.75</td>\n",
       "      <td>427.25</td>\n",
       "      <td>233.5</td>\n",
       "      <td>50.5</td>\n",
       "      <td>False</td>\n",
       "      <td>True</td>\n",
       "      <td>False</td>\n",
       "      <td>False</td>\n",
       "    </tr>\n",
       "    <tr>\n",
       "      <th>7</th>\n",
       "      <td>X_001.jpeg</td>\n",
       "      <td>853</td>\n",
       "      <td>2240</td>\n",
       "      <td>0</td>\n",
       "      <td>-1.00</td>\n",
       "      <td>-1.00</td>\n",
       "      <td>0.0</td>\n",
       "      <td>0.0</td>\n",
       "      <td>True</td>\n",
       "      <td>False</td>\n",
       "      <td>False</td>\n",
       "      <td>False</td>\n",
       "    </tr>\n",
       "    <tr>\n",
       "      <th>8</th>\n",
       "      <td>X_002.jpeg</td>\n",
       "      <td>823</td>\n",
       "      <td>2240</td>\n",
       "      <td>1</td>\n",
       "      <td>1666.00</td>\n",
       "      <td>593.50</td>\n",
       "      <td>455.0</td>\n",
       "      <td>164.0</td>\n",
       "      <td>False</td>\n",
       "      <td>False</td>\n",
       "      <td>False</td>\n",
       "      <td>True</td>\n",
       "    </tr>\n",
       "    <tr>\n",
       "      <th>9</th>\n",
       "      <td>X_002.jpeg</td>\n",
       "      <td>823</td>\n",
       "      <td>2240</td>\n",
       "      <td>1</td>\n",
       "      <td>1578.50</td>\n",
       "      <td>237.50</td>\n",
       "      <td>490.0</td>\n",
       "      <td>55.0</td>\n",
       "      <td>False</td>\n",
       "      <td>False</td>\n",
       "      <td>True</td>\n",
       "      <td>False</td>\n",
       "    </tr>\n",
       "  </tbody>\n",
       "</table>\n",
       "</div>"
      ],
      "text/plain": [
       "     FileName  IMG_HEIGHT  IMG_WIDTH  P       Bx      By     Bw     Bh   AcNo  \\\n",
       "0  X_000.jpeg         930       2240  1  1666.00  749.25  740.0  190.5  False   \n",
       "1  X_000.jpeg         930       2240  1  1592.25  260.25  325.5   67.5  False   \n",
       "2  X_000.jpeg         930       2240  1  1928.50  373.25  289.0   69.5  False   \n",
       "3  X_000.jpeg         930       2240  0    -1.00   -1.00    0.0    0.0   True   \n",
       "4  X_001.jpeg         853       2240  1  1818.75  650.50  674.5  238.0  False   \n",
       "5  X_001.jpeg         853       2240  1  1856.00  207.00  198.0   49.0  False   \n",
       "6  X_001.jpeg         853       2240  1  2062.75  427.25  233.5   50.5  False   \n",
       "7  X_001.jpeg         853       2240  0    -1.00   -1.00    0.0    0.0   True   \n",
       "8  X_002.jpeg         823       2240  1  1666.00  593.50  455.0  164.0  False   \n",
       "9  X_002.jpeg         823       2240  1  1578.50  237.50  490.0   55.0  False   \n",
       "\n",
       "   Amount   Date  Signature  \n",
       "0   False  False       True  \n",
       "1   False   True      False  \n",
       "2    True  False      False  \n",
       "3   False  False      False  \n",
       "4   False  False       True  \n",
       "5   False   True      False  \n",
       "6    True  False      False  \n",
       "7   False  False      False  \n",
       "8   False  False       True  \n",
       "9   False   True      False  "
      ]
     },
     "execution_count": 8,
     "metadata": {},
     "output_type": "execute_result"
    }
   ],
   "source": [
    "class_encoded_df=pd.get_dummies(intermediate_df,columns=[\"ClassName\"],prefix=\"\",prefix_sep='')\n",
    "class_encoded_df.head(10)"
   ]
  },
  {
   "attachments": {},
   "cell_type": "markdown",
   "metadata": {},
   "source": [
    "### Data Scaling"
   ]
  },
  {
   "attachments": {},
   "cell_type": "markdown",
   "metadata": {},
   "source": [
    "### Reshape Image and Y Data Modification "
   ]
  },
  {
   "cell_type": "code",
   "execution_count": 9,
   "metadata": {},
   "outputs": [],
   "source": [
    "SCALE_FACTOR = .8"
   ]
  },
  {
   "cell_type": "code",
   "execution_count": 10,
   "metadata": {},
   "outputs": [
    {
     "data": {
      "text/plain": [
       "(775, 1792, 3)"
      ]
     },
     "execution_count": 10,
     "metadata": {},
     "output_type": "execute_result"
    }
   ],
   "source": [
    "image_height =  class_encoded_df.IMG_HEIGHT.mean() * SCALE_FACTOR\n",
    "image_width = class_encoded_df.IMG_WIDTH.mean() * SCALE_FACTOR\n",
    "image_shape = (int(image_height),int(image_width),3)\n",
    "image_shape"
   ]
  },
  {
   "cell_type": "code",
   "execution_count": 11,
   "metadata": {},
   "outputs": [],
   "source": [
    "def scalling_Y_data(df):\n",
    "    df.By = (df.IMG_HEIGHT/image_height)**-1 * df.By  \n",
    "    df.Bh = (df.IMG_HEIGHT/image_height)**-1 * df.Bh  \n",
    "    df.Bx = (df.IMG_WIDTH/image_width)**-1 * df.Bx  \n",
    "    df.Bw = (df.IMG_WIDTH/image_width)**-1 * df.Bw\n",
    "    return df\n",
    "Y_scaled_data = scalling_Y_data(class_encoded_df)"
   ]
  },
  {
   "cell_type": "code",
   "execution_count": 12,
   "metadata": {},
   "outputs": [
    {
     "data": {
      "text/html": [
       "<div>\n",
       "<style scoped>\n",
       "    .dataframe tbody tr th:only-of-type {\n",
       "        vertical-align: middle;\n",
       "    }\n",
       "\n",
       "    .dataframe tbody tr th {\n",
       "        vertical-align: top;\n",
       "    }\n",
       "\n",
       "    .dataframe thead th {\n",
       "        text-align: right;\n",
       "    }\n",
       "</style>\n",
       "<table border=\"1\" class=\"dataframe\">\n",
       "  <thead>\n",
       "    <tr style=\"text-align: right;\">\n",
       "      <th></th>\n",
       "      <th>FileName</th>\n",
       "      <th>IMG_HEIGHT</th>\n",
       "      <th>IMG_WIDTH</th>\n",
       "      <th>P</th>\n",
       "      <th>Bx</th>\n",
       "      <th>By</th>\n",
       "      <th>Bw</th>\n",
       "      <th>Bh</th>\n",
       "      <th>AcNo</th>\n",
       "      <th>Amount</th>\n",
       "      <th>Date</th>\n",
       "      <th>Signature</th>\n",
       "    </tr>\n",
       "  </thead>\n",
       "  <tbody>\n",
       "  </tbody>\n",
       "</table>\n",
       "</div>"
      ],
      "text/plain": [
       "Empty DataFrame\n",
       "Columns: [FileName, IMG_HEIGHT, IMG_WIDTH, P, Bx, By, Bw, Bh, AcNo, Amount, Date, Signature]\n",
       "Index: []"
      ]
     },
     "metadata": {},
     "output_type": "display_data"
    },
    {
     "data": {
      "text/html": [
       "<div>\n",
       "<style scoped>\n",
       "    .dataframe tbody tr th:only-of-type {\n",
       "        vertical-align: middle;\n",
       "    }\n",
       "\n",
       "    .dataframe tbody tr th {\n",
       "        vertical-align: top;\n",
       "    }\n",
       "\n",
       "    .dataframe thead th {\n",
       "        text-align: right;\n",
       "    }\n",
       "</style>\n",
       "<table border=\"1\" class=\"dataframe\">\n",
       "  <thead>\n",
       "    <tr style=\"text-align: right;\">\n",
       "      <th></th>\n",
       "      <th>FileName</th>\n",
       "      <th>IMG_HEIGHT</th>\n",
       "      <th>IMG_WIDTH</th>\n",
       "      <th>P</th>\n",
       "      <th>Bx</th>\n",
       "      <th>By</th>\n",
       "      <th>Bw</th>\n",
       "      <th>Bh</th>\n",
       "      <th>AcNo</th>\n",
       "      <th>Amount</th>\n",
       "      <th>Date</th>\n",
       "      <th>Signature</th>\n",
       "    </tr>\n",
       "  </thead>\n",
       "  <tbody>\n",
       "  </tbody>\n",
       "</table>\n",
       "</div>"
      ],
      "text/plain": [
       "Empty DataFrame\n",
       "Columns: [FileName, IMG_HEIGHT, IMG_WIDTH, P, Bx, By, Bw, Bh, AcNo, Amount, Date, Signature]\n",
       "Index: []"
      ]
     },
     "metadata": {},
     "output_type": "display_data"
    }
   ],
   "source": [
    "disp(Y_scaled_data[Y_scaled_data.By>999999999999999999])\n",
    "disp(Y_scaled_data[Y_scaled_data.Bx>999999999999999999])"
   ]
  },
  {
   "cell_type": "code",
   "execution_count": 13,
   "metadata": {},
   "outputs": [],
   "source": [
    "normalaized_df = Y_scaled_data"
   ]
  },
  {
   "attachments": {},
   "cell_type": "markdown",
   "metadata": {},
   "source": [
    "### Data Orientation Related to 4 objects "
   ]
  },
  {
   "cell_type": "code",
   "execution_count": 14,
   "metadata": {},
   "outputs": [
    {
     "data": {
      "text/plain": [
       "39"
      ]
     },
     "metadata": {},
     "output_type": "display_data"
    },
    {
     "data": {
      "text/html": [
       "<div>\n",
       "<style scoped>\n",
       "    .dataframe tbody tr th:only-of-type {\n",
       "        vertical-align: middle;\n",
       "    }\n",
       "\n",
       "    .dataframe tbody tr th {\n",
       "        vertical-align: top;\n",
       "    }\n",
       "\n",
       "    .dataframe thead th {\n",
       "        text-align: right;\n",
       "    }\n",
       "</style>\n",
       "<table border=\"1\" class=\"dataframe\">\n",
       "  <thead>\n",
       "    <tr style=\"text-align: right;\">\n",
       "      <th></th>\n",
       "      <th>FileName</th>\n",
       "      <th>IMG_HEIGHT</th>\n",
       "      <th>IMG_WIDTH</th>\n",
       "      <th>obj0_P</th>\n",
       "      <th>obj0_Bx</th>\n",
       "      <th>obj0_By</th>\n",
       "      <th>obj0_Bw</th>\n",
       "      <th>obj0_Bh</th>\n",
       "      <th>obj0_AcNo</th>\n",
       "      <th>obj0_Amount</th>\n",
       "      <th>...</th>\n",
       "      <th>obj2_Signature</th>\n",
       "      <th>obj3_P</th>\n",
       "      <th>obj3_Bx</th>\n",
       "      <th>obj3_By</th>\n",
       "      <th>obj3_Bw</th>\n",
       "      <th>obj3_Bh</th>\n",
       "      <th>obj3_AcNo</th>\n",
       "      <th>obj3_Amount</th>\n",
       "      <th>obj3_Date</th>\n",
       "      <th>obj3_Signature</th>\n",
       "    </tr>\n",
       "  </thead>\n",
       "  <tbody>\n",
       "    <tr>\n",
       "      <th>0</th>\n",
       "      <td>X_000.jpeg</td>\n",
       "      <td>930</td>\n",
       "      <td>2240</td>\n",
       "      <td>1</td>\n",
       "      <td>1332.8</td>\n",
       "      <td>624.932754</td>\n",
       "      <td>592.0</td>\n",
       "      <td>158.891811</td>\n",
       "      <td>False</td>\n",
       "      <td>False</td>\n",
       "      <td>...</td>\n",
       "      <td>False</td>\n",
       "      <td>0</td>\n",
       "      <td>-0.8</td>\n",
       "      <td>-0.834078</td>\n",
       "      <td>0.0</td>\n",
       "      <td>0.000000</td>\n",
       "      <td>True</td>\n",
       "      <td>False</td>\n",
       "      <td>False</td>\n",
       "      <td>False</td>\n",
       "    </tr>\n",
       "    <tr>\n",
       "      <th>1</th>\n",
       "      <td>X_001.jpeg</td>\n",
       "      <td>853</td>\n",
       "      <td>2240</td>\n",
       "      <td>1</td>\n",
       "      <td>1455.0</td>\n",
       "      <td>591.544954</td>\n",
       "      <td>539.6</td>\n",
       "      <td>216.429976</td>\n",
       "      <td>False</td>\n",
       "      <td>False</td>\n",
       "      <td>...</td>\n",
       "      <td>False</td>\n",
       "      <td>0</td>\n",
       "      <td>-0.8</td>\n",
       "      <td>-0.909370</td>\n",
       "      <td>0.0</td>\n",
       "      <td>0.000000</td>\n",
       "      <td>True</td>\n",
       "      <td>False</td>\n",
       "      <td>False</td>\n",
       "      <td>False</td>\n",
       "    </tr>\n",
       "    <tr>\n",
       "      <th>2</th>\n",
       "      <td>X_002.jpeg</td>\n",
       "      <td>823</td>\n",
       "      <td>2240</td>\n",
       "      <td>1</td>\n",
       "      <td>1332.8</td>\n",
       "      <td>559.384428</td>\n",
       "      <td>364.0</td>\n",
       "      <td>154.572951</td>\n",
       "      <td>False</td>\n",
       "      <td>False</td>\n",
       "      <td>...</td>\n",
       "      <td>False</td>\n",
       "      <td>1</td>\n",
       "      <td>381.2</td>\n",
       "      <td>226.439948</td>\n",
       "      <td>333.6</td>\n",
       "      <td>40.057015</td>\n",
       "      <td>True</td>\n",
       "      <td>False</td>\n",
       "      <td>False</td>\n",
       "      <td>False</td>\n",
       "    </tr>\n",
       "    <tr>\n",
       "      <th>3</th>\n",
       "      <td>X_003.jpeg</td>\n",
       "      <td>978</td>\n",
       "      <td>2240</td>\n",
       "      <td>1</td>\n",
       "      <td>1428.6</td>\n",
       "      <td>545.483011</td>\n",
       "      <td>525.2</td>\n",
       "      <td>164.576844</td>\n",
       "      <td>False</td>\n",
       "      <td>False</td>\n",
       "      <td>...</td>\n",
       "      <td>False</td>\n",
       "      <td>1</td>\n",
       "      <td>279.0</td>\n",
       "      <td>541.715589</td>\n",
       "      <td>158.8</td>\n",
       "      <td>42.829637</td>\n",
       "      <td>True</td>\n",
       "      <td>False</td>\n",
       "      <td>False</td>\n",
       "      <td>False</td>\n",
       "    </tr>\n",
       "    <tr>\n",
       "      <th>4</th>\n",
       "      <td>X_004.jpeg</td>\n",
       "      <td>956</td>\n",
       "      <td>2240</td>\n",
       "      <td>1</td>\n",
       "      <td>1357.4</td>\n",
       "      <td>569.192630</td>\n",
       "      <td>534.8</td>\n",
       "      <td>124.143225</td>\n",
       "      <td>False</td>\n",
       "      <td>False</td>\n",
       "      <td>...</td>\n",
       "      <td>False</td>\n",
       "      <td>0</td>\n",
       "      <td>-0.8</td>\n",
       "      <td>-0.811394</td>\n",
       "      <td>0.0</td>\n",
       "      <td>0.000000</td>\n",
       "      <td>True</td>\n",
       "      <td>False</td>\n",
       "      <td>False</td>\n",
       "      <td>False</td>\n",
       "    </tr>\n",
       "  </tbody>\n",
       "</table>\n",
       "<p>5 rows × 39 columns</p>\n",
       "</div>"
      ],
      "text/plain": [
       "     FileName  IMG_HEIGHT  IMG_WIDTH  obj0_P  obj0_Bx     obj0_By  obj0_Bw  \\\n",
       "0  X_000.jpeg         930       2240       1   1332.8  624.932754    592.0   \n",
       "1  X_001.jpeg         853       2240       1   1455.0  591.544954    539.6   \n",
       "2  X_002.jpeg         823       2240       1   1332.8  559.384428    364.0   \n",
       "3  X_003.jpeg         978       2240       1   1428.6  545.483011    525.2   \n",
       "4  X_004.jpeg         956       2240       1   1357.4  569.192630    534.8   \n",
       "\n",
       "      obj0_Bh  obj0_AcNo  obj0_Amount  ...  obj2_Signature  obj3_P  obj3_Bx  \\\n",
       "0  158.891811      False        False  ...           False       0     -0.8   \n",
       "1  216.429976      False        False  ...           False       0     -0.8   \n",
       "2  154.572951      False        False  ...           False       1    381.2   \n",
       "3  164.576844      False        False  ...           False       1    279.0   \n",
       "4  124.143225      False        False  ...           False       0     -0.8   \n",
       "\n",
       "      obj3_By  obj3_Bw    obj3_Bh  obj3_AcNo  obj3_Amount  obj3_Date  \\\n",
       "0   -0.834078      0.0   0.000000       True        False      False   \n",
       "1   -0.909370      0.0   0.000000       True        False      False   \n",
       "2  226.439948    333.6  40.057015       True        False      False   \n",
       "3  541.715589    158.8  42.829637       True        False      False   \n",
       "4   -0.811394      0.0   0.000000       True        False      False   \n",
       "\n",
       "   obj3_Signature  \n",
       "0           False  \n",
       "1           False  \n",
       "2           False  \n",
       "3           False  \n",
       "4           False  \n",
       "\n",
       "[5 rows x 39 columns]"
      ]
     },
     "execution_count": 14,
     "metadata": {},
     "output_type": "execute_result"
    }
   ],
   "source": [
    "previous_columns = normalaized_df.columns[:3]\n",
    "columns = list(previous_columns)+[f\"obj{j}_{i}\" for j in range(4) for i in normalaized_df.columns[3:] ]\n",
    "disp(len(columns))\n",
    "oriented_df=pd.DataFrame(columns=columns)\n",
    "for i,name in enumerate(normalaized_df.FileName.unique()): \n",
    "    \n",
    "    data_prefix = list(normalaized_df[normalaized_df.FileName==name].iloc[0,:3])\n",
    "   \n",
    "    data_suffix = list(np.array(\n",
    "        normalaized_df[normalaized_df.FileName == name].iloc[:,3:]\n",
    "    ).reshape(-1))\n",
    "    oriented_df.loc[i]=(data_prefix+data_suffix)\n",
    "df = oriented_df\n",
    "df.head()"
   ]
  },
  {
   "attachments": {},
   "cell_type": "markdown",
   "metadata": {},
   "source": [
    "# Data Loading and Advanced Processing "
   ]
  },
  {
   "attachments": {},
   "cell_type": "markdown",
   "metadata": {},
   "source": [
    "### Image Processing Steps"
   ]
  },
  {
   "attachments": {},
   "cell_type": "markdown",
   "metadata": {},
   "source": [
    "### Loading Image and scaling according scale factor  "
   ]
  },
  {
   "cell_type": "code",
   "execution_count": 15,
   "metadata": {},
   "outputs": [
    {
     "data": {
      "text/plain": [
       "(775, 1792, 3)"
      ]
     },
     "execution_count": 15,
     "metadata": {},
     "output_type": "execute_result"
    }
   ],
   "source": [
    "def read_and_resize_image(filename):\n",
    "    \n",
    "    image_dir=\"./X/\"\n",
    "    img = cv.imread(path.join(image_dir,filename),cv.COLOR_BGR2RGB)\n",
    "    img = cv.resize(img,tuple(reversed(image_shape[:2])))\n",
    "    # other filter functions applied on img\n",
    "    if len(img.shape)<3:\n",
    "        img = cv.cvtColor(img, cv.COLOR_GRAY2RGB)\n",
    "\n",
    "        # raise BaseException(\"Shape Error on file : \"+filename)\n",
    "    return img\n",
    "read_and_resize_image('X_000.jpeg').shape"
   ]
  },
  {
   "attachments": {},
   "cell_type": "markdown",
   "metadata": {},
   "source": [
    "### Dataframe to Array "
   ]
  },
  {
   "cell_type": "code",
   "execution_count": 16,
   "metadata": {},
   "outputs": [
    {
     "data": {
      "text/plain": [
       "0    [[[72, 72, 72], [71, 71, 71], [70, 70, 70], [7...\n",
       "1    [[[13, 6, 11], [10, 3, 8], [9, 3, 8], [10, 3, ...\n",
       "2    [[[18, 13, 14], [8, 3, 4], [5, 1, 1], [4, 2, 2...\n",
       "3    [[[14, 4, 4], [13, 3, 3], [14, 4, 4], [14, 6, ...\n",
       "4    [[[21, 26, 25], [5, 7, 6], [9, 14, 13], [1, 2,...\n",
       "Name: Image, dtype: object"
      ]
     },
     "execution_count": 16,
     "metadata": {},
     "output_type": "execute_result"
    }
   ],
   "source": [
    "df['Image'] = df['FileName'].apply(read_and_resize_image)\n",
    "df['Image'].head()\n"
   ]
  },
  {
   "cell_type": "code",
   "execution_count": 17,
   "metadata": {},
   "outputs": [
    {
     "data": {
      "text/plain": [
       "Index(['obj0_P', 'obj0_Bx', 'obj0_By', 'obj0_Bw', 'obj0_Bh', 'obj0_AcNo',\n",
       "       'obj0_Amount', 'obj0_Date', 'obj0_Signature', 'obj1_P', 'obj1_Bx',\n",
       "       'obj1_By', 'obj1_Bw', 'obj1_Bh', 'obj1_AcNo', 'obj1_Amount',\n",
       "       'obj1_Date', 'obj1_Signature', 'obj2_P', 'obj2_Bx', 'obj2_By',\n",
       "       'obj2_Bw', 'obj2_Bh', 'obj2_AcNo', 'obj2_Amount', 'obj2_Date',\n",
       "       'obj2_Signature', 'obj3_P', 'obj3_Bx', 'obj3_By', 'obj3_Bw', 'obj3_Bh',\n",
       "       'obj3_AcNo', 'obj3_Amount', 'obj3_Date', 'obj3_Signature'],\n",
       "      dtype='object')"
      ]
     },
     "metadata": {},
     "output_type": "display_data"
    },
    {
     "data": {
      "text/plain": [
       "(39,)"
      ]
     },
     "metadata": {},
     "output_type": "display_data"
    },
    {
     "data": {
      "text/plain": [
       "(39, 36)"
      ]
     },
     "metadata": {},
     "output_type": "display_data"
    },
    {
     "data": {
      "text/plain": [
       "((39, 775, 1792, 3), (39, 36))"
      ]
     },
     "execution_count": 17,
     "metadata": {},
     "output_type": "execute_result"
    }
   ],
   "source": [
    "X = df[\"Image\"]\n",
    "Y = df.iloc[:,3:].drop(\"Image\",axis=1)\n",
    "disp(Y.columns)\n",
    "disp(X.values.shape,Y.values.shape)\n",
    "X = np.stack(X.values)\n",
    "Y = np.stack(Y.values)\n",
    "Y = np.array(Y,dtype=np.float64)\n",
    "X = np.array(X, dtype=np.float64)\n",
    "X.shape,Y.shape"
   ]
  },
  {
   "cell_type": "code",
   "execution_count": 18,
   "metadata": {},
   "outputs": [],
   "source": [
    "import tensorflow as tf"
   ]
  },
  {
   "attachments": {},
   "cell_type": "markdown",
   "metadata": {},
   "source": [
    "### Tensor Flow Data Load"
   ]
  },
  {
   "cell_type": "code",
   "execution_count": 19,
   "metadata": {},
   "outputs": [
    {
     "data": {
      "text/plain": [
       "((775, 1792, 3), (36,))"
      ]
     },
     "execution_count": 19,
     "metadata": {},
     "output_type": "execute_result"
    }
   ],
   "source": [
    "dataset = tf.data.Dataset.from_tensor_slices((X, Y))\n",
    "x,y = dataset.as_numpy_iterator().__next__()\n",
    "x.shape,y.shape"
   ]
  },
  {
   "cell_type": "code",
   "execution_count": 20,
   "metadata": {},
   "outputs": [],
   "source": [
    "TRAIN_SIZE_IN_1 = 0.8\n",
    "total_samples = len(dataset)\n",
    "train_size = int(total_samples * TRAIN_SIZE_IN_1)\n",
    "dataset = dataset.shuffle(total_samples)\n",
    "train_dataset = dataset.take(train_size)\n",
    "val_dataset = dataset.skip(train_size)"
   ]
  },
  {
   "cell_type": "code",
   "execution_count": 21,
   "metadata": {},
   "outputs": [
    {
     "name": "stdout",
     "output_type": "stream",
     "text": [
      "(775, 1792, 3)\n",
      "(36,)\n"
     ]
    }
   ],
   "source": [
    "for x,y in train_dataset :\n",
    "    print(x.shape)\n",
    "    print(y.shape)\n",
    "    break"
   ]
  },
  {
   "attachments": {},
   "cell_type": "markdown",
   "metadata": {},
   "source": [
    "### Generating Model \n"
   ]
  },
  {
   "cell_type": "code",
   "execution_count": 22,
   "metadata": {},
   "outputs": [],
   "source": [
    "from tensorflow.keras import layers, models\n",
    "from tensorflow.keras.losses import SparseCategoricalCrossentropy\n",
    "from tensorflow.keras.optimizers import Adam\n",
    "import matplotlib.pyplot as plt"
   ]
  },
  {
   "cell_type": "code",
   "execution_count": 24,
   "metadata": {},
   "outputs": [
    {
     "ename": "ResourceExhaustedError",
     "evalue": "{{function_node __wrapped__AddV2_device_/job:localhost/replica:0/task:0/device:CPU:0}} OOM when allocating tensor with shape[5533696,512] and type float on /job:localhost/replica:0/task:0/device:CPU:0 by allocator cpu [Op:AddV2]",
     "output_type": "error",
     "traceback": [
      "\u001b[1;31m---------------------------------------------------------------------------\u001b[0m",
      "\u001b[1;31mResourceExhaustedError\u001b[0m                    Traceback (most recent call last)",
      "Cell \u001b[1;32mIn[24], line 1\u001b[0m\n\u001b[1;32m----> 1\u001b[0m model \u001b[39m=\u001b[39m models\u001b[39m.\u001b[39;49mSequential([\n\u001b[0;32m      2\u001b[0m     layers\u001b[39m.\u001b[39;49mConv2D(filters\u001b[39m=\u001b[39;49m\u001b[39m64\u001b[39;49m, kernel_size\u001b[39m=\u001b[39;49m(\u001b[39m3\u001b[39;49m, \u001b[39m3\u001b[39;49m), padding \u001b[39m=\u001b[39;49m \u001b[39m'\u001b[39;49m\u001b[39msame\u001b[39;49m\u001b[39m'\u001b[39;49m, activation\u001b[39m=\u001b[39;49m\u001b[39m'\u001b[39;49m\u001b[39mrelu\u001b[39;49m\u001b[39m'\u001b[39;49m, input_shape\u001b[39m=\u001b[39;49mimage_shape),\n\u001b[0;32m      3\u001b[0m     layers\u001b[39m.\u001b[39;49mConv2D(filters\u001b[39m=\u001b[39;49m\u001b[39m32\u001b[39;49m, kernel_size\u001b[39m=\u001b[39;49m(\u001b[39m3\u001b[39;49m, \u001b[39m3\u001b[39;49m), padding \u001b[39m=\u001b[39;49m \u001b[39m'\u001b[39;49m\u001b[39msame\u001b[39;49m\u001b[39m'\u001b[39;49m, activation\u001b[39m=\u001b[39;49m\u001b[39m'\u001b[39;49m\u001b[39mrelu\u001b[39;49m\u001b[39m'\u001b[39;49m),\n\u001b[0;32m      4\u001b[0m     layers\u001b[39m.\u001b[39;49mMaxPooling2D((\u001b[39m2\u001b[39;49m, \u001b[39m2\u001b[39;49m)),\n\u001b[0;32m      5\u001b[0m     layers\u001b[39m.\u001b[39;49mConv2D(filters\u001b[39m=\u001b[39;49m\u001b[39m32\u001b[39;49m, kernel_size\u001b[39m=\u001b[39;49m(\u001b[39m3\u001b[39;49m, \u001b[39m3\u001b[39;49m), padding \u001b[39m=\u001b[39;49m \u001b[39m'\u001b[39;49m\u001b[39msame\u001b[39;49m\u001b[39m'\u001b[39;49m, activation\u001b[39m=\u001b[39;49m\u001b[39m'\u001b[39;49m\u001b[39mrelu\u001b[39;49m\u001b[39m'\u001b[39;49m),\n\u001b[0;32m      6\u001b[0m     layers\u001b[39m.\u001b[39;49mConv2D(filters\u001b[39m=\u001b[39;49m\u001b[39m64\u001b[39;49m, kernel_size\u001b[39m=\u001b[39;49m(\u001b[39m3\u001b[39;49m, \u001b[39m3\u001b[39;49m), padding \u001b[39m=\u001b[39;49m \u001b[39m'\u001b[39;49m\u001b[39msame\u001b[39;49m\u001b[39m'\u001b[39;49m, activation\u001b[39m=\u001b[39;49m\u001b[39m'\u001b[39;49m\u001b[39mrelu\u001b[39;49m\u001b[39m'\u001b[39;49m),\n\u001b[0;32m      7\u001b[0m     layers\u001b[39m.\u001b[39;49mMaxPooling2D((\u001b[39m2\u001b[39;49m, \u001b[39m2\u001b[39;49m)),\n\u001b[0;32m      8\u001b[0m     layers\u001b[39m.\u001b[39;49mConv2D(filters\u001b[39m=\u001b[39;49m\u001b[39m64\u001b[39;49m, kernel_size\u001b[39m=\u001b[39;49m(\u001b[39m3\u001b[39;49m, \u001b[39m3\u001b[39;49m), padding \u001b[39m=\u001b[39;49m \u001b[39m'\u001b[39;49m\u001b[39msame\u001b[39;49m\u001b[39m'\u001b[39;49m ,activation\u001b[39m=\u001b[39;49m\u001b[39m'\u001b[39;49m\u001b[39mrelu\u001b[39;49m\u001b[39m'\u001b[39;49m),\n\u001b[0;32m      9\u001b[0m     layers\u001b[39m.\u001b[39;49mFlatten(),\n\u001b[0;32m     10\u001b[0m     layers\u001b[39m.\u001b[39;49mDense(\u001b[39m512\u001b[39;49m, activation\u001b[39m=\u001b[39;49m\u001b[39m'\u001b[39;49m\u001b[39mrelu\u001b[39;49m\u001b[39m'\u001b[39;49m),\n\u001b[0;32m     11\u001b[0m     layers\u001b[39m.\u001b[39;49mDense(\u001b[39m512\u001b[39;49m, activation\u001b[39m=\u001b[39;49m\u001b[39m'\u001b[39;49m\u001b[39mrelu\u001b[39;49m\u001b[39m'\u001b[39;49m),\n\u001b[0;32m     12\u001b[0m     layers\u001b[39m.\u001b[39;49mDense(\u001b[39m256\u001b[39;49m, activation\u001b[39m=\u001b[39;49m\u001b[39m'\u001b[39;49m\u001b[39mrelu\u001b[39;49m\u001b[39m'\u001b[39;49m),\n\u001b[0;32m     13\u001b[0m     layers\u001b[39m.\u001b[39;49mDense(\u001b[39m64\u001b[39;49m, activation\u001b[39m=\u001b[39;49m\u001b[39m'\u001b[39;49m\u001b[39mrelu\u001b[39;49m\u001b[39m'\u001b[39;49m),\n\u001b[0;32m     14\u001b[0m     layers\u001b[39m.\u001b[39;49mDense(\u001b[39m36\u001b[39;49m),\n\u001b[0;32m     15\u001b[0m \n\u001b[0;32m     16\u001b[0m ])\n",
      "File \u001b[1;32md:\\AritrA\\Layout_Detection_of_Bank_Cheque_using_YOLO\\.py\\lib\\site-packages\\tensorflow\\python\\trackable\\base.py:205\u001b[0m, in \u001b[0;36mno_automatic_dependency_tracking.<locals>._method_wrapper\u001b[1;34m(self, *args, **kwargs)\u001b[0m\n\u001b[0;32m    203\u001b[0m \u001b[39mself\u001b[39m\u001b[39m.\u001b[39m_self_setattr_tracking \u001b[39m=\u001b[39m \u001b[39mFalse\u001b[39;00m  \u001b[39m# pylint: disable=protected-access\u001b[39;00m\n\u001b[0;32m    204\u001b[0m \u001b[39mtry\u001b[39;00m:\n\u001b[1;32m--> 205\u001b[0m   result \u001b[39m=\u001b[39m method(\u001b[39mself\u001b[39m, \u001b[39m*\u001b[39margs, \u001b[39m*\u001b[39m\u001b[39m*\u001b[39mkwargs)\n\u001b[0;32m    206\u001b[0m \u001b[39mfinally\u001b[39;00m:\n\u001b[0;32m    207\u001b[0m   \u001b[39mself\u001b[39m\u001b[39m.\u001b[39m_self_setattr_tracking \u001b[39m=\u001b[39m previous_value  \u001b[39m# pylint: disable=protected-access\u001b[39;00m\n",
      "File \u001b[1;32md:\\AritrA\\Layout_Detection_of_Bank_Cheque_using_YOLO\\.py\\lib\\site-packages\\keras\\utils\\traceback_utils.py:70\u001b[0m, in \u001b[0;36mfilter_traceback.<locals>.error_handler\u001b[1;34m(*args, **kwargs)\u001b[0m\n\u001b[0;32m     67\u001b[0m     filtered_tb \u001b[39m=\u001b[39m _process_traceback_frames(e\u001b[39m.\u001b[39m__traceback__)\n\u001b[0;32m     68\u001b[0m     \u001b[39m# To get the full stack trace, call:\u001b[39;00m\n\u001b[0;32m     69\u001b[0m     \u001b[39m# `tf.debugging.disable_traceback_filtering()`\u001b[39;00m\n\u001b[1;32m---> 70\u001b[0m     \u001b[39mraise\u001b[39;00m e\u001b[39m.\u001b[39mwith_traceback(filtered_tb) \u001b[39mfrom\u001b[39;00m \u001b[39mNone\u001b[39;00m\n\u001b[0;32m     71\u001b[0m \u001b[39mfinally\u001b[39;00m:\n\u001b[0;32m     72\u001b[0m     \u001b[39mdel\u001b[39;00m filtered_tb\n",
      "File \u001b[1;32md:\\AritrA\\Layout_Detection_of_Bank_Cheque_using_YOLO\\.py\\lib\\site-packages\\keras\\backend.py:2101\u001b[0m, in \u001b[0;36mRandomGenerator.random_uniform\u001b[1;34m(self, shape, minval, maxval, dtype, nonce)\u001b[0m\n\u001b[0;32m   2099\u001b[0m     \u001b[39mif\u001b[39;00m nonce:\n\u001b[0;32m   2100\u001b[0m         seed \u001b[39m=\u001b[39m tf\u001b[39m.\u001b[39mrandom\u001b[39m.\u001b[39mexperimental\u001b[39m.\u001b[39mstateless_fold_in(seed, nonce)\n\u001b[1;32m-> 2101\u001b[0m     \u001b[39mreturn\u001b[39;00m tf\u001b[39m.\u001b[39;49mrandom\u001b[39m.\u001b[39;49mstateless_uniform(\n\u001b[0;32m   2102\u001b[0m         shape\u001b[39m=\u001b[39;49mshape,\n\u001b[0;32m   2103\u001b[0m         minval\u001b[39m=\u001b[39;49mminval,\n\u001b[0;32m   2104\u001b[0m         maxval\u001b[39m=\u001b[39;49mmaxval,\n\u001b[0;32m   2105\u001b[0m         dtype\u001b[39m=\u001b[39;49mdtype,\n\u001b[0;32m   2106\u001b[0m         seed\u001b[39m=\u001b[39;49mseed,\n\u001b[0;32m   2107\u001b[0m     )\n\u001b[0;32m   2108\u001b[0m \u001b[39mreturn\u001b[39;00m tf\u001b[39m.\u001b[39mrandom\u001b[39m.\u001b[39muniform(\n\u001b[0;32m   2109\u001b[0m     shape\u001b[39m=\u001b[39mshape,\n\u001b[0;32m   2110\u001b[0m     minval\u001b[39m=\u001b[39mminval,\n\u001b[1;32m   (...)\u001b[0m\n\u001b[0;32m   2113\u001b[0m     seed\u001b[39m=\u001b[39m\u001b[39mself\u001b[39m\u001b[39m.\u001b[39mmake_legacy_seed(),\n\u001b[0;32m   2114\u001b[0m )\n",
      "\u001b[1;31mResourceExhaustedError\u001b[0m: {{function_node __wrapped__AddV2_device_/job:localhost/replica:0/task:0/device:CPU:0}} OOM when allocating tensor with shape[5533696,512] and type float on /job:localhost/replica:0/task:0/device:CPU:0 by allocator cpu [Op:AddV2]"
     ]
    }
   ],
   "source": [
    "model = models.Sequential([\n",
    "    layers.Conv2D(filters=64, kernel_size=(3, 3), padding = 'same', activation='relu', input_shape=image_shape),\n",
    "    layers.Conv2D(filters=32, kernel_size=(3, 3), padding = 'same', activation='relu'),\n",
    "    layers.MaxPooling2D((2, 2)),\n",
    "    layers.Conv2D(filters=32, kernel_size=(3, 3), padding = 'same', activation='relu'),\n",
    "    layers.Conv2D(filters=64, kernel_size=(3, 3), padding = 'same', activation='relu'),\n",
    "    layers.MaxPooling2D((2, 2)),\n",
    "    layers.Conv2D(filters=64, kernel_size=(3, 3), padding = 'same' ,activation='relu'),\n",
    "    layers.Flatten(),\n",
    "    layers.Dense(512, activation='relu'),\n",
    "    layers.Dense(512, activation='relu'),\n",
    "    layers.Dense(256, activation='relu'),\n",
    "    layers.Dense(64, activation='relu'),\n",
    "    layers.Dense(36),\n",
    "\n",
    "])"
   ]
  },
  {
   "cell_type": "code",
   "execution_count": null,
   "metadata": {},
   "outputs": [],
   "source": [
    "model.summary()"
   ]
  },
  {
   "cell_type": "code",
   "execution_count": null,
   "metadata": {},
   "outputs": [],
   "source": [
    "lr = 0.001\n",
    "batch_size = 8\n",
    "epoch = 50"
   ]
  },
  {
   "cell_type": "code",
   "execution_count": null,
   "metadata": {},
   "outputs": [
    {
     "ename": "NameError",
     "evalue": "name 'model' is not defined",
     "output_type": "error",
     "traceback": [
      "\u001b[1;31m---------------------------------------------------------------------------\u001b[0m",
      "\u001b[1;31mNameError\u001b[0m                                 Traceback (most recent call last)",
      "Cell \u001b[1;32mIn[61], line 1\u001b[0m\n\u001b[1;32m----> 1\u001b[0m model\u001b[39m.\u001b[39mcompile(optimizer\u001b[39m=\u001b[39mAdam(learning_rate\u001b[39m=\u001b[39mlr), \n\u001b[0;32m      2\u001b[0m               loss\u001b[39m=\u001b[39mSparseCategoricalCrossentropy(), metrics\u001b[39m=\u001b[39m[\u001b[39m'\u001b[39m\u001b[39maccuracy\u001b[39m\u001b[39m'\u001b[39m])\n",
      "\u001b[1;31mNameError\u001b[0m: name 'model' is not defined"
     ]
    }
   ],
   "source": [
    "\n",
    "model.compile(optimizer=Adam(learning_rate=lr), \n",
    "              loss=SparseCategoricalCrossentropy(), metrics=['accuracy'])\n",
    "\n"
   ]
  },
  {
   "cell_type": "code",
   "execution_count": null,
   "metadata": {},
   "outputs": [],
   "source": [
    "# Train the model\n",
    "model.fit(train_dataset, epochs=epoch,\n",
    "          validation_data=val_dataset, batch_size=batch_size)\n"
   ]
  },
  {
   "cell_type": "code",
   "execution_count": null,
   "metadata": {},
   "outputs": [],
   "source": []
  }
 ],
 "metadata": {
  "kernelspec": {
   "display_name": ".env",
   "language": "python",
   "name": "python3"
  },
  "language_info": {
   "codemirror_mode": {
    "name": "ipython",
    "version": 3
   },
   "file_extension": ".py",
   "mimetype": "text/x-python",
   "name": "python",
   "nbconvert_exporter": "python",
   "pygments_lexer": "ipython3",
   "version": "3.9.12"
  },
  "orig_nbformat": 4
 },
 "nbformat": 4,
 "nbformat_minor": 2
}
